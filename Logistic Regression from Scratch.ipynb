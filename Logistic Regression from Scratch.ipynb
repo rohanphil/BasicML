{
 "cells": [
  {
   "cell_type": "code",
   "execution_count": 1,
   "metadata": {},
   "outputs": [],
   "source": [
    "# Fun logistic regression algorithm\n",
    "import numpy as np\n",
    "import torch\n",
    "from torch import nn\n",
    "import torch.optim as optim"
   ]
  },
  {
   "cell_type": "code",
   "execution_count": 2,
   "metadata": {},
   "outputs": [],
   "source": [
    "x = torch.rand(100,5)\n",
    "y = torch.from_numpy(np.random.choice([-1,1],100))"
   ]
  },
  {
   "cell_type": "code",
   "execution_count": 3,
   "metadata": {},
   "outputs": [],
   "source": [
    "xTr = x[:80,:]\n",
    "yTr = y[:80]\n",
    "xTe = x[80:,:]\n",
    "yTe = y[80:]"
   ]
  },
  {
   "cell_type": "code",
   "execution_count": 4,
   "metadata": {},
   "outputs": [],
   "source": [
    "class LogReg(nn.Module):\n",
    "    def __init__(self):\n",
    "        super().__init__()\n",
    "        self.w = nn.Parameter(torch.randn(5,1), requires_grad = True)\n",
    "        self.b = nn.Parameter(torch.randn(1), requires_grad = True)\n",
    "    \n",
    "    def forward(self,x):\n",
    "        \n",
    "        return x @ self.w + self.b\n",
    "        \n",
    "#         loss = torch.sum(torch.log(1+torch.exp(-y*(x@self.w +self.b))))\n",
    "#         return loss\n",
    "        "
   ]
  },
  {
   "cell_type": "code",
   "execution_count": 5,
   "metadata": {},
   "outputs": [],
   "source": [
    "model = LogReg()"
   ]
  },
  {
   "cell_type": "code",
   "execution_count": 6,
   "metadata": {},
   "outputs": [
    {
     "data": {
      "text/plain": [
       "[Parameter containing:\n",
       " tensor([[-1.2172],\n",
       "         [-1.6735],\n",
       "         [-0.7582],\n",
       "         [ 0.0667],\n",
       "         [-0.5052]], requires_grad=True),\n",
       " Parameter containing:\n",
       " tensor([0.7689], requires_grad=True)]"
      ]
     },
     "execution_count": 6,
     "metadata": {},
     "output_type": "execute_result"
    }
   ],
   "source": [
    "list(model.parameters())"
   ]
  },
  {
   "cell_type": "code",
   "execution_count": 7,
   "metadata": {},
   "outputs": [],
   "source": [
    "train_losses = []\n",
    "val_losses = []"
   ]
  },
  {
   "cell_type": "code",
   "execution_count": 8,
   "metadata": {},
   "outputs": [
    {
     "name": "stdout",
     "output_type": "stream",
     "text": [
      "train_loss:0.8405606150627136, val_loss:0.7083614468574524\n",
      "train_loss:0.7026283740997314, val_loss:0.6828373670578003\n",
      "train_loss:0.688299834728241, val_loss:0.6787040829658508\n",
      "train_loss:0.6875127553939819, val_loss:0.6801639795303345\n",
      "train_loss:0.687502920627594, val_loss:0.6806453466415405\n",
      "train_loss:0.6875029802322388, val_loss:0.6806846261024475\n",
      "train_loss:0.687502920627594, val_loss:0.6806879639625549\n",
      "train_loss:0.687502920627594, val_loss:0.6806893348693848\n",
      "train_loss:0.6875029802322388, val_loss:0.6806899905204773\n",
      "train_loss:0.6875029802322388, val_loss:0.6806905269622803\n",
      "train_loss:0.687502920627594, val_loss:0.6806908249855042\n",
      "train_loss:0.6875028610229492, val_loss:0.6806909441947937\n",
      "train_loss:0.6875029802322388, val_loss:0.6806910037994385\n",
      "train_loss:0.6875030398368835, val_loss:0.6806910634040833\n",
      "train_loss:0.687502920627594, val_loss:0.680691123008728\n",
      "train_loss:0.687502920627594, val_loss:0.6806911826133728\n",
      "train_loss:0.6875029802322388, val_loss:0.6806837916374207\n",
      "train_loss:0.6875029802322388, val_loss:0.6806657910346985\n",
      "train_loss:0.6875029802322388, val_loss:0.6806913018226624\n",
      "train_loss:0.6875030398368835, val_loss:0.6806912422180176\n",
      "train_loss:0.6875029802322388, val_loss:0.6806914806365967\n",
      "train_loss:0.687502920627594, val_loss:0.6806885600090027\n",
      "train_loss:0.6875029802322388, val_loss:0.680691123008728\n",
      "train_loss:0.6875029802322388, val_loss:0.680691123008728\n",
      "train_loss:0.687502920627594, val_loss:0.6806946396827698\n"
     ]
    }
   ],
   "source": [
    "num_epochs = 25000\n",
    "model = LogReg()\n",
    "prev = float(\"inf\")\n",
    "optim = torch.optim.AdamW(model.parameters(), lr=1e-3)\n",
    "for i in range(num_epochs):\n",
    "    optim.zero_grad()\n",
    "    preds = torch.squeeze(model(xTr))\n",
    "    loss = torch.sum(torch.mean(torch.log(1+torch.exp(-yTr*(preds))))) + 0.01* torch.pow(torch.norm(model.w),2)#+ *model.w.T@model.w\n",
    "    loss.backward()\n",
    "    optim.step()\n",
    "    \n",
    "    if i%1000 ==0:\n",
    "        train_losses.append(loss.item())\n",
    "        with torch.no_grad():\n",
    "            val_preds = torch.squeeze(model(xTe))\n",
    "        val_loss = torch.sum(torch.mean(torch.log(1+torch.exp(-yTe*(val_preds))))) + 0.001* torch.pow(torch.norm(model.w),2)\n",
    "        print(f\"train_loss:{loss.item()}, val_loss:{val_loss.item()}\")\n",
    "        val_losses.append(val_loss.item())\n",
    "\n",
    "\n",
    "\n",
    "    \n",
    "    \n",
    "    "
   ]
  },
  {
   "cell_type": "code",
   "execution_count": 9,
   "metadata": {},
   "outputs": [
    {
     "data": {
      "text/plain": [
       "False"
      ]
     },
     "execution_count": 9,
     "metadata": {},
     "output_type": "execute_result"
    }
   ],
   "source": [
    "torch.allclose(torch.sign(x@model.w + model.b).flatten().type(torch.int),y)"
   ]
  },
  {
   "cell_type": "code",
   "execution_count": 10,
   "metadata": {},
   "outputs": [
    {
     "data": {
      "image/png": "[encoded data removed]",
      "text/plain": [
       "<Figure size 432x288 with 1 Axes>"
      ]
     },
     "metadata": {
      "needs_background": "light"
     },
     "output_type": "display_data"
    }
   ],
   "source": [
    "import matplotlib.pyplot as plt\n",
    "plt.plot(train_losses)\n",
    "\n",
    "plt.plot(val_losses)\n",
    "plt.show()"
   ]
  },
  {
   "cell_type": "code",
   "execution_count": 216,
   "metadata": {},
   "outputs": [
    {
     "data": {
      "text/plain": [
       "tensor([ 1, -1,  1, -1, -1,  1, -1, -1,  1, -1,  1, -1, -1,  1, -1, -1,  1,  1,\n",
       "        -1,  1, -1,  1,  1, -1, -1,  1,  1, -1,  1, -1, -1, -1, -1, -1, -1,  1,\n",
       "         1, -1, -1, -1, -1, -1,  1, -1,  1, -1,  1,  1,  1,  1, -1, -1, -1, -1,\n",
       "         1,  1, -1, -1, -1,  1, -1, -1, -1, -1, -1, -1, -1, -1,  1, -1,  1,  1,\n",
       "        -1, -1,  1,  1, -1, -1,  1,  1, -1,  1, -1, -1, -1,  1, -1, -1,  1,  1,\n",
       "        -1, -1,  1, -1, -1, -1,  1,  1,  1,  1], dtype=torch.int32)"
      ]
     },
     "execution_count": 216,
     "metadata": {},
     "output_type": "execute_result"
    }
   ],
   "source": [
    "torch.sign(x@model.w + model.b).flatten().type(torch.int)"
   ]
  },
  {
   "cell_type": "code",
   "execution_count": null,
   "metadata": {},
   "outputs": [],
   "source": []
  }
 ],
 "metadata": {
  "kernelspec": {
   "display_name": "Python 3",
   "language": "python",
   "name": "python3"
  },
  "language_info": {
   "codemirror_mode": {
    "name": "ipython",
    "version": 3
   },
   "file_extension": ".py",
   "mimetype": "text/x-python",
   "name": "python",
   "nbconvert_exporter": "python",
   "pygments_lexer": "ipython3",
   "version": "3.7.6"
  }
 },
 "nbformat": 4,
 "nbformat_minor": 4
}
