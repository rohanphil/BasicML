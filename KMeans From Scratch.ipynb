{
 "cells": [
  {
   "cell_type": "code",
   "execution_count": 3,
   "metadata": {},
   "outputs": [],
   "source": [
    "# The K-Means Algorithm is one of the most popular unsupervised machine learning algorithms. \n",
    "# The objective of the K-Means algorithm is to minimize the intra class variance \n",
    "# We assume that the clusters are normally distributed"
   ]
  },
  {
   "cell_type": "code",
   "execution_count": 2,
   "metadata": {},
   "outputs": [],
   "source": [
    "# import everything you need\n",
    "\n",
    "import numpy as np\n",
    "import matplotlib.pyplot as plt\n"
   ]
  },
  {
   "cell_type": "code",
   "execution_count": 151,
   "metadata": {},
   "outputs": [],
   "source": [
    "# I am choosing to go with two clusters for the purposes of this example\n",
    "\n",
    "center1 = (50, 60)\n",
    "center2 = (80, 20)\n",
    "distance = 20\n",
    "\n",
    "x1 = np.random.uniform(center1[0], center1[0] + distance, size=(100,))\n",
    "y1 = np.random.normal(center1[1], distance, size=(100,)) \n",
    "\n",
    "x2 = np.random.uniform(center2[0], center2[0] + distance, size=(100,))\n",
    "y2 = np.random.normal(center2[1], distance, size=(100,)) "
   ]
  },
  {
   "cell_type": "code",
   "execution_count": 152,
   "metadata": {},
   "outputs": [
    {
     "data": {
      "image/png": "[encoded data removed]",
      "text/plain": [
       "<Figure size 432x288 with 1 Axes>"
      ]
     },
     "metadata": {
      "needs_background": "light"
     },
     "output_type": "display_data"
    }
   ],
   "source": [
    "# The true clustering should look like this\n",
    "\n",
    "plt.scatter(x1, y1)\n",
    "plt.scatter(x2, y2)\n",
    "plt.show()"
   ]
  },
  {
   "cell_type": "code",
   "execution_count": 153,
   "metadata": {},
   "outputs": [
    {
     "name": "stdout",
     "output_type": "stream",
     "text": [
      "(200, 2)\n"
     ]
    }
   ],
   "source": [
    "# Modify the data into the format that we want. (ie) array([(x1,y1),(x2,y2).....])\n",
    "\n",
    "train = np.concatenate([np.stack([x1,y1], axis=1),np.stack([x2,y2], axis=1)], axis = 0)\n",
    "\n",
    "print(train.shape)"
   ]
  },
  {
   "cell_type": "code",
   "execution_count": 154,
   "metadata": {},
   "outputs": [],
   "source": [
    "# Now that we have the data we want, let us select two random points in the training set as our initial centroids\n",
    "# There are several ways of deciding our first centroids but this is the one that I have chosen for this project"
   ]
  },
  {
   "cell_type": "code",
   "execution_count": 155,
   "metadata": {},
   "outputs": [
    {
     "name": "stdout",
     "output_type": "stream",
     "text": [
      "[56.90506996 75.31851231] [61.05742975 98.34907886]\n"
     ]
    }
   ],
   "source": [
    "centroid1 = train[int(np.random.uniform(0,len(train)))]\n",
    "centroid2 = train[int(np.random.uniform(0,len(train)))]\n",
    "\n",
    "print(centroid1, centroid2)"
   ]
  },
  {
   "cell_type": "code",
   "execution_count": 156,
   "metadata": {},
   "outputs": [],
   "source": [
    "# define the get_distance function\n",
    "\n",
    "def get_distance(a,b):\n",
    "    dist = np.sum((a-b)**2)**0.5\n",
    "    return dist"
   ]
  },
  {
   "cell_type": "code",
   "execution_count": 157,
   "metadata": {},
   "outputs": [
    {
     "data": {
      "text/plain": [
       "23.401903497114255"
      ]
     },
     "execution_count": 157,
     "metadata": {},
     "output_type": "execute_result"
    }
   ],
   "source": [
    "#Check the get_distance function\n",
    "get_distance(centroid1,centroid2)"
   ]
  },
  {
   "cell_type": "code",
   "execution_count": 158,
   "metadata": {},
   "outputs": [],
   "source": [
    "# Define the initial clusters\n",
    "\n",
    "dist1 = np.sum((centroid1 - train)**2, axis = 1)**0.5\n",
    "dist2 = np.sum((centroid2 - train)**2, axis = 1)**0.5\n",
    "\n",
    "clusters = np.where(dist1<=dist2, 0,1)\n"
   ]
  },
  {
   "cell_type": "code",
   "execution_count": 159,
   "metadata": {},
   "outputs": [
    {
     "name": "stdout",
     "output_type": "stream",
     "text": [
      "[0 0 0 0 0 0 0 0 1 0 0 0 0 0 0 0 0 0 0 0 0 0 0 0 0 0 0 1 0 0 1 0 0 1 0 0 0\n",
      " 0 0 0 0 0 1 0 0 0 0 0 0 0 0 0 0 0 0 0 0 0 0 0 0 1 0 0 0 0 0 0 0 0 0 1 0 0\n",
      " 0 0 0 0 0 0 0 0 0 1 0 0 1 0 0 0 0 0 0 0 0 0 0 0 0 1 0 0 0 0 0 0 0 0 0 0 0\n",
      " 0 0 0 0 0 0 0 0 0 0 0 0 0 0 0 0 0 0 0 0 0 0 0 0 0 0 0 0 0 0 0 0 0 0 0 0 0\n",
      " 0 0 0 0 0 0 0 0 0 0 0 0 0 0 0 0 0 0 0 0 0 0 0 0 0 0 0 0 0 0 0 0 0 0 0 0 0\n",
      " 0 0 0 0 0 0 0 0 0 0 0 0 0 0 0]\n"
     ]
    }
   ],
   "source": [
    "print(clusters)"
   ]
  },
  {
   "cell_type": "code",
   "execution_count": 160,
   "metadata": {},
   "outputs": [],
   "source": [
    "# Perform Lloyd's algorithms\n",
    "\n",
    "max_iters = 100\n",
    "\n",
    "cluster1_ids = np.where(clusters == 0)[0]\n",
    "\n",
    "#print(np.mean(train[cluster1_ids], axis = 0))\n",
    "\n",
    "for it in range(max_iters):\n",
    "    #print(clusters)\n",
    "    cluster1_ids = np.where(clusters == 0)[0]\n",
    "    cluster2_ids = np.where(clusters == 1)[0]\n",
    "    centroid1 = np.mean(train[cluster1_ids], axis = 0)\n",
    "    centroid2 = np.mean(train[cluster2_ids], axis = 0)\n",
    "    dist1 = np.sum((centroid1 - train)**2, axis = 1)**0.5\n",
    "    dist2 = np.sum((centroid2 - train)**2, axis = 1)**0.5\n",
    "\n",
    "    new_clusters = np.where(dist1<=dist2, 0,1)\n",
    "    #print(new_clusters)\n",
    "    \n",
    "    loss = np.var(train[np.where(new_clusters==0)])/2 + np.var(train[np.where(new_clusters==1)])/2\n",
    "    \n",
    "    \n",
    "    if np.array_equal(clusters,new_clusters):\n",
    "        break\n",
    "    else:\n",
    "        clusters = new_clusters\n",
    "    "
   ]
  },
  {
   "cell_type": "code",
   "execution_count": 161,
   "metadata": {},
   "outputs": [
    {
     "data": {
      "text/plain": [
       "<matplotlib.collections.PathCollection at 0x1a894403ac8>"
      ]
     },
     "execution_count": 161,
     "metadata": {},
     "output_type": "execute_result"
    },
    {
     "data": {
      "image/png": "[encoded data removed]",
      "text/plain": [
       "<Figure size 432x288 with 1 Axes>"
      ]
     },
     "metadata": {
      "needs_background": "light"
     },
     "output_type": "display_data"
    }
   ],
   "source": [
    "plt.scatter(train[:,0], train[:,1], c=clusters, cmap='viridis')\n",
    "plt.scatter(centroid1[0],centroid1[1],color = 'red')\n",
    "plt.scatter(centroid2[0],centroid2[1],color = 'red')"
   ]
  },
  {
   "cell_type": "code",
   "execution_count": null,
   "metadata": {},
   "outputs": [],
   "source": []
  }
 ],
 "metadata": {
  "kernelspec": {
   "display_name": "Python 3",
   "language": "python",
   "name": "python3"
  },
  "language_info": {
   "codemirror_mode": {
    "name": "ipython",
    "version": 3
   },
   "file_extension": ".py",
   "mimetype": "text/x-python",
   "name": "python",
   "nbconvert_exporter": "python",
   "pygments_lexer": "ipython3",
   "version": "3.7.6"
  }
 },
 "nbformat": 4,
 "nbformat_minor": 4
}
