{
 "cells": [
  {
   "cell_type": "code",
   "execution_count": 1,
   "metadata": {},
   "outputs": [],
   "source": [
    "import torch\n",
    "import numpy as np\n"
   ]
  },
  {
   "cell_type": "code",
   "execution_count": 79,
   "metadata": {},
   "outputs": [],
   "source": [
    "# Create the dataset\n",
    "# Create X array of shape (100, 5)\n",
    "X = torch.from_numpy(np.random.rand(100, 5))\n",
    "\n",
    "# Create Y array of shape (100, 1) with linear relationship to X\n",
    "true_weights = np.array([2, -3, 1, 0.5, -1])  # True weights used to generate Y\n",
    "true_bias = 5  # True bias used to generate Y\n",
    "Y = torch.from_numpy(np.dot(X, true_weights)[:,np.newaxis] + true_bias + np.random.randn(100, 1) * 0.1)  # Add some noise to Y\n"
   ]
  },
  {
   "cell_type": "code",
   "execution_count": 105,
   "metadata": {},
   "outputs": [],
   "source": [
    "# OLS closed form\n",
    "\n",
    "def get_opt_param(X,Y):\n",
    "    X = X.T\n",
    "    Y = Y.T\n",
    "\n",
    "    # Compute the parameter estimates using the closed-form solution\n",
    "    XTX_inv = torch.inverse(X@X.T)\n",
    "    beta = XTX_inv @ X@ Y.T\n",
    "\n",
    "    return beta.flatten()\n",
    "    "
   ]
  },
  {
   "cell_type": "code",
   "execution_count": 106,
   "metadata": {},
   "outputs": [
    {
     "name": "stdout",
     "output_type": "stream",
     "text": [
      "tensor([ 4.1959, -1.3294,  2.8082,  2.8416,  0.5483], dtype=torch.float64)\n"
     ]
    }
   ],
   "source": [
    "w = get_opt_param(X,Y)\n",
    "print(w)"
   ]
  },
  {
   "cell_type": "code",
   "execution_count": null,
   "metadata": {},
   "outputs": [],
   "source": []
  }
 ],
 "metadata": {
  "kernelspec": {
   "display_name": "Python 3",
   "language": "python",
   "name": "python3"
  },
  "language_info": {
   "codemirror_mode": {
    "name": "ipython",
    "version": 3
   },
   "file_extension": ".py",
   "mimetype": "text/x-python",
   "name": "python",
   "nbconvert_exporter": "python",
   "pygments_lexer": "ipython3",
   "version": "3.7.6"
  }
 },
 "nbformat": 4,
 "nbformat_minor": 4
}
